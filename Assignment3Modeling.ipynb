{
 "cells": [
  {
   "cell_type": "markdown",
   "metadata": {},
   "source": [
    "## Statistical Thinking for Data Science Assignment 3\n",
    "## Data Science Models for Telecommunication Marketing Campaigns\n",
    "##### Juan Diego Balsero Leon\n",
    "##### Student ID: 24896577"
   ]
  },
  {
   "cell_type": "markdown",
   "metadata": {},
   "source": [
    "### Initial Setup"
   ]
  },
  {
   "cell_type": "code",
   "execution_count": 47,
   "metadata": {},
   "outputs": [],
   "source": [
    "#Importing the python libraries\n",
    "import numpy as np\n",
    "import pandas as pd\n",
    "import matplotlib.pyplot as plt\n",
    "import seaborn as sns\n",
    "\n",
    "# Importing statsmodels api\n",
    "import statsmodels.api as sm\n",
    "from scipy import stats\n",
    "\n",
    "#Importing sklearn libraries\n",
    "from sklearn.model_selection import train_test_split, GridSearchCV, cross_val_score\n",
    "from sklearn.metrics import accuracy_score, precision_score, recall_score\n",
    "\n",
    "\n",
    "#Importing 'warnings' to ignore future warnings and Data conversion warnings\n",
    "import warnings\n",
    "from sklearn.exceptions import DataConversionWarning\n",
    "warnings.simplefilter(action='ignore', category=FutureWarning)\n",
    "warnings.simplefilter(action='ignore', category=DataConversionWarning)\n",
    "\n",
    "#Displaying all the columns and rows\n",
    "pd.set_option('display.max_columns', None)\n",
    "pd.set_option('display.max_rows', None)"
   ]
  },
  {
   "cell_type": "code",
   "execution_count": 48,
   "metadata": {},
   "outputs": [
    {
     "data": {
      "text/html": [
       "<div>\n",
       "<style scoped>\n",
       "    .dataframe tbody tr th:only-of-type {\n",
       "        vertical-align: middle;\n",
       "    }\n",
       "\n",
       "    .dataframe tbody tr th {\n",
       "        vertical-align: top;\n",
       "    }\n",
       "\n",
       "    .dataframe thead th {\n",
       "        text-align: right;\n",
       "    }\n",
       "</style>\n",
       "<table border=\"1\" class=\"dataframe\">\n",
       "  <thead>\n",
       "    <tr style=\"text-align: right;\">\n",
       "      <th></th>\n",
       "      <th>age</th>\n",
       "      <th>job</th>\n",
       "      <th>marital</th>\n",
       "      <th>education</th>\n",
       "      <th>default</th>\n",
       "      <th>housing</th>\n",
       "      <th>loan</th>\n",
       "      <th>contact</th>\n",
       "      <th>month</th>\n",
       "      <th>day_of_week</th>\n",
       "      <th>duration</th>\n",
       "      <th>campaign</th>\n",
       "      <th>pdays</th>\n",
       "      <th>previous</th>\n",
       "      <th>poutcome</th>\n",
       "      <th>emp.var.rate</th>\n",
       "      <th>cons.price.idx</th>\n",
       "      <th>cons.conf.idx</th>\n",
       "      <th>euribor3m</th>\n",
       "      <th>nr.employed</th>\n",
       "      <th>y</th>\n",
       "    </tr>\n",
       "  </thead>\n",
       "  <tbody>\n",
       "    <tr>\n",
       "      <th>0</th>\n",
       "      <td>40</td>\n",
       "      <td>admin.</td>\n",
       "      <td>married</td>\n",
       "      <td>basic.6y</td>\n",
       "      <td>no</td>\n",
       "      <td>no</td>\n",
       "      <td>no</td>\n",
       "      <td>telephone</td>\n",
       "      <td>may</td>\n",
       "      <td>mon</td>\n",
       "      <td>151</td>\n",
       "      <td>1</td>\n",
       "      <td>999</td>\n",
       "      <td>0</td>\n",
       "      <td>nonexistent</td>\n",
       "      <td>1.1</td>\n",
       "      <td>93.994</td>\n",
       "      <td>-36.4</td>\n",
       "      <td>4.857</td>\n",
       "      <td>5191.0</td>\n",
       "      <td>no</td>\n",
       "    </tr>\n",
       "    <tr>\n",
       "      <th>1</th>\n",
       "      <td>56</td>\n",
       "      <td>services</td>\n",
       "      <td>married</td>\n",
       "      <td>high.school</td>\n",
       "      <td>no</td>\n",
       "      <td>no</td>\n",
       "      <td>yes</td>\n",
       "      <td>telephone</td>\n",
       "      <td>may</td>\n",
       "      <td>mon</td>\n",
       "      <td>307</td>\n",
       "      <td>1</td>\n",
       "      <td>999</td>\n",
       "      <td>0</td>\n",
       "      <td>nonexistent</td>\n",
       "      <td>1.1</td>\n",
       "      <td>93.994</td>\n",
       "      <td>-36.4</td>\n",
       "      <td>4.857</td>\n",
       "      <td>5191.0</td>\n",
       "      <td>no</td>\n",
       "    </tr>\n",
       "    <tr>\n",
       "      <th>2</th>\n",
       "      <td>45</td>\n",
       "      <td>services</td>\n",
       "      <td>married</td>\n",
       "      <td>basic.9y</td>\n",
       "      <td>unknown</td>\n",
       "      <td>no</td>\n",
       "      <td>no</td>\n",
       "      <td>telephone</td>\n",
       "      <td>may</td>\n",
       "      <td>mon</td>\n",
       "      <td>198</td>\n",
       "      <td>1</td>\n",
       "      <td>999</td>\n",
       "      <td>0</td>\n",
       "      <td>nonexistent</td>\n",
       "      <td>1.1</td>\n",
       "      <td>93.994</td>\n",
       "      <td>-36.4</td>\n",
       "      <td>4.857</td>\n",
       "      <td>5191.0</td>\n",
       "      <td>no</td>\n",
       "    </tr>\n",
       "    <tr>\n",
       "      <th>3</th>\n",
       "      <td>59</td>\n",
       "      <td>admin.</td>\n",
       "      <td>married</td>\n",
       "      <td>professional.course</td>\n",
       "      <td>no</td>\n",
       "      <td>no</td>\n",
       "      <td>no</td>\n",
       "      <td>telephone</td>\n",
       "      <td>may</td>\n",
       "      <td>mon</td>\n",
       "      <td>139</td>\n",
       "      <td>1</td>\n",
       "      <td>999</td>\n",
       "      <td>0</td>\n",
       "      <td>nonexistent</td>\n",
       "      <td>1.1</td>\n",
       "      <td>93.994</td>\n",
       "      <td>-36.4</td>\n",
       "      <td>4.857</td>\n",
       "      <td>5191.0</td>\n",
       "      <td>no</td>\n",
       "    </tr>\n",
       "    <tr>\n",
       "      <th>4</th>\n",
       "      <td>41</td>\n",
       "      <td>blue-collar</td>\n",
       "      <td>married</td>\n",
       "      <td>unknown</td>\n",
       "      <td>unknown</td>\n",
       "      <td>no</td>\n",
       "      <td>no</td>\n",
       "      <td>telephone</td>\n",
       "      <td>may</td>\n",
       "      <td>mon</td>\n",
       "      <td>217</td>\n",
       "      <td>1</td>\n",
       "      <td>999</td>\n",
       "      <td>0</td>\n",
       "      <td>nonexistent</td>\n",
       "      <td>1.1</td>\n",
       "      <td>93.994</td>\n",
       "      <td>-36.4</td>\n",
       "      <td>4.857</td>\n",
       "      <td>5191.0</td>\n",
       "      <td>no</td>\n",
       "    </tr>\n",
       "  </tbody>\n",
       "</table>\n",
       "</div>"
      ],
      "text/plain": [
       "   age          job  marital            education  default housing loan  \\\n",
       "0   40       admin.  married             basic.6y       no      no   no   \n",
       "1   56     services  married          high.school       no      no  yes   \n",
       "2   45     services  married             basic.9y  unknown      no   no   \n",
       "3   59       admin.  married  professional.course       no      no   no   \n",
       "4   41  blue-collar  married              unknown  unknown      no   no   \n",
       "\n",
       "     contact month day_of_week  duration  campaign  pdays  previous  \\\n",
       "0  telephone   may         mon       151         1    999         0   \n",
       "1  telephone   may         mon       307         1    999         0   \n",
       "2  telephone   may         mon       198         1    999         0   \n",
       "3  telephone   may         mon       139         1    999         0   \n",
       "4  telephone   may         mon       217         1    999         0   \n",
       "\n",
       "      poutcome  emp.var.rate  cons.price.idx  cons.conf.idx  euribor3m  \\\n",
       "0  nonexistent           1.1          93.994          -36.4      4.857   \n",
       "1  nonexistent           1.1          93.994          -36.4      4.857   \n",
       "2  nonexistent           1.1          93.994          -36.4      4.857   \n",
       "3  nonexistent           1.1          93.994          -36.4      4.857   \n",
       "4  nonexistent           1.1          93.994          -36.4      4.857   \n",
       "\n",
       "   nr.employed   y  \n",
       "0       5191.0  no  \n",
       "1       5191.0  no  \n",
       "2       5191.0  no  \n",
       "3       5191.0  no  \n",
       "4       5191.0  no  "
      ]
     },
     "execution_count": 48,
     "metadata": {},
     "output_type": "execute_result"
    }
   ],
   "source": [
    "data = pd.read_csv('TeleCom_Data_2.csv')\n",
    "data.head()"
   ]
  },
  {
   "cell_type": "code",
   "execution_count": 49,
   "metadata": {},
   "outputs": [
    {
     "data": {
      "text/plain": [
       "(41180, 21)"
      ]
     },
     "execution_count": 49,
     "metadata": {},
     "output_type": "execute_result"
    }
   ],
   "source": [
    "data.shape"
   ]
  },
  {
   "cell_type": "code",
   "execution_count": 50,
   "metadata": {},
   "outputs": [
    {
     "name": "stdout",
     "output_type": "stream",
     "text": [
      "<class 'pandas.core.frame.DataFrame'>\n",
      "RangeIndex: 41180 entries, 0 to 41179\n",
      "Data columns (total 21 columns):\n",
      " #   Column          Non-Null Count  Dtype  \n",
      "---  ------          --------------  -----  \n",
      " 0   age             41180 non-null  int64  \n",
      " 1   job             41180 non-null  object \n",
      " 2   marital         41180 non-null  object \n",
      " 3   education       41180 non-null  object \n",
      " 4   default         41180 non-null  object \n",
      " 5   housing         41180 non-null  object \n",
      " 6   loan            41180 non-null  object \n",
      " 7   contact         41180 non-null  object \n",
      " 8   month           41180 non-null  object \n",
      " 9   day_of_week     41180 non-null  object \n",
      " 10  duration        41180 non-null  int64  \n",
      " 11  campaign        41180 non-null  int64  \n",
      " 12  pdays           41180 non-null  int64  \n",
      " 13  previous        41180 non-null  int64  \n",
      " 14  poutcome        41180 non-null  object \n",
      " 15  emp.var.rate    41180 non-null  float64\n",
      " 16  cons.price.idx  41180 non-null  float64\n",
      " 17  cons.conf.idx   41180 non-null  float64\n",
      " 18  euribor3m       41180 non-null  float64\n",
      " 19  nr.employed     41180 non-null  float64\n",
      " 20  y               41180 non-null  object \n",
      "dtypes: float64(5), int64(5), object(11)\n",
      "memory usage: 6.6+ MB\n"
     ]
    }
   ],
   "source": [
    "data.info()"
   ]
  },
  {
   "cell_type": "code",
   "execution_count": 51,
   "metadata": {},
   "outputs": [
    {
     "data": {
      "text/html": [
       "<div>\n",
       "<style scoped>\n",
       "    .dataframe tbody tr th:only-of-type {\n",
       "        vertical-align: middle;\n",
       "    }\n",
       "\n",
       "    .dataframe tbody tr th {\n",
       "        vertical-align: top;\n",
       "    }\n",
       "\n",
       "    .dataframe thead th {\n",
       "        text-align: right;\n",
       "    }\n",
       "</style>\n",
       "<table border=\"1\" class=\"dataframe\">\n",
       "  <thead>\n",
       "    <tr style=\"text-align: right;\">\n",
       "      <th></th>\n",
       "      <th>age</th>\n",
       "      <th>job</th>\n",
       "      <th>marital</th>\n",
       "      <th>education</th>\n",
       "      <th>default</th>\n",
       "      <th>housing</th>\n",
       "      <th>loan</th>\n",
       "      <th>contact</th>\n",
       "      <th>month</th>\n",
       "      <th>day_of_week</th>\n",
       "      <th>duration</th>\n",
       "      <th>campaign</th>\n",
       "      <th>pdays</th>\n",
       "      <th>previous</th>\n",
       "      <th>poutcome</th>\n",
       "      <th>emp.var.rate</th>\n",
       "      <th>cons.price.idx</th>\n",
       "      <th>cons.conf.idx</th>\n",
       "      <th>euribor3m</th>\n",
       "      <th>nr.employed</th>\n",
       "      <th>y</th>\n",
       "    </tr>\n",
       "  </thead>\n",
       "  <tbody>\n",
       "    <tr>\n",
       "      <th>count</th>\n",
       "      <td>41180.000000</td>\n",
       "      <td>41180</td>\n",
       "      <td>41180</td>\n",
       "      <td>41180</td>\n",
       "      <td>41180</td>\n",
       "      <td>41180</td>\n",
       "      <td>41180</td>\n",
       "      <td>41180</td>\n",
       "      <td>41180</td>\n",
       "      <td>41180</td>\n",
       "      <td>41180.000000</td>\n",
       "      <td>41180.000000</td>\n",
       "      <td>41180.000000</td>\n",
       "      <td>41180.000000</td>\n",
       "      <td>41180</td>\n",
       "      <td>41180.000000</td>\n",
       "      <td>41180.000000</td>\n",
       "      <td>41180.000000</td>\n",
       "      <td>41180.000000</td>\n",
       "      <td>41180.000000</td>\n",
       "      <td>41180</td>\n",
       "    </tr>\n",
       "    <tr>\n",
       "      <th>unique</th>\n",
       "      <td>NaN</td>\n",
       "      <td>12</td>\n",
       "      <td>4</td>\n",
       "      <td>8</td>\n",
       "      <td>3</td>\n",
       "      <td>3</td>\n",
       "      <td>3</td>\n",
       "      <td>2</td>\n",
       "      <td>10</td>\n",
       "      <td>5</td>\n",
       "      <td>NaN</td>\n",
       "      <td>NaN</td>\n",
       "      <td>NaN</td>\n",
       "      <td>NaN</td>\n",
       "      <td>3</td>\n",
       "      <td>NaN</td>\n",
       "      <td>NaN</td>\n",
       "      <td>NaN</td>\n",
       "      <td>NaN</td>\n",
       "      <td>NaN</td>\n",
       "      <td>2</td>\n",
       "    </tr>\n",
       "    <tr>\n",
       "      <th>top</th>\n",
       "      <td>NaN</td>\n",
       "      <td>admin.</td>\n",
       "      <td>married</td>\n",
       "      <td>university.degree</td>\n",
       "      <td>no</td>\n",
       "      <td>yes</td>\n",
       "      <td>no</td>\n",
       "      <td>cellular</td>\n",
       "      <td>may</td>\n",
       "      <td>thu</td>\n",
       "      <td>NaN</td>\n",
       "      <td>NaN</td>\n",
       "      <td>NaN</td>\n",
       "      <td>NaN</td>\n",
       "      <td>nonexistent</td>\n",
       "      <td>NaN</td>\n",
       "      <td>NaN</td>\n",
       "      <td>NaN</td>\n",
       "      <td>NaN</td>\n",
       "      <td>NaN</td>\n",
       "      <td>no</td>\n",
       "    </tr>\n",
       "    <tr>\n",
       "      <th>freq</th>\n",
       "      <td>NaN</td>\n",
       "      <td>10422</td>\n",
       "      <td>24921</td>\n",
       "      <td>12166</td>\n",
       "      <td>32581</td>\n",
       "      <td>21571</td>\n",
       "      <td>33943</td>\n",
       "      <td>26140</td>\n",
       "      <td>13765</td>\n",
       "      <td>8622</td>\n",
       "      <td>NaN</td>\n",
       "      <td>NaN</td>\n",
       "      <td>NaN</td>\n",
       "      <td>NaN</td>\n",
       "      <td>35559</td>\n",
       "      <td>NaN</td>\n",
       "      <td>NaN</td>\n",
       "      <td>NaN</td>\n",
       "      <td>NaN</td>\n",
       "      <td>NaN</td>\n",
       "      <td>36542</td>\n",
       "    </tr>\n",
       "    <tr>\n",
       "      <th>mean</th>\n",
       "      <td>40.021710</td>\n",
       "      <td>NaN</td>\n",
       "      <td>NaN</td>\n",
       "      <td>NaN</td>\n",
       "      <td>NaN</td>\n",
       "      <td>NaN</td>\n",
       "      <td>NaN</td>\n",
       "      <td>NaN</td>\n",
       "      <td>NaN</td>\n",
       "      <td>NaN</td>\n",
       "      <td>258.280427</td>\n",
       "      <td>2.567800</td>\n",
       "      <td>962.516707</td>\n",
       "      <td>0.172705</td>\n",
       "      <td>NaN</td>\n",
       "      <td>0.081901</td>\n",
       "      <td>93.575508</td>\n",
       "      <td>-40.501999</td>\n",
       "      <td>3.621422</td>\n",
       "      <td>5167.053344</td>\n",
       "      <td>NaN</td>\n",
       "    </tr>\n",
       "    <tr>\n",
       "      <th>std</th>\n",
       "      <td>10.419593</td>\n",
       "      <td>NaN</td>\n",
       "      <td>NaN</td>\n",
       "      <td>NaN</td>\n",
       "      <td>NaN</td>\n",
       "      <td>NaN</td>\n",
       "      <td>NaN</td>\n",
       "      <td>NaN</td>\n",
       "      <td>NaN</td>\n",
       "      <td>NaN</td>\n",
       "      <td>259.299856</td>\n",
       "      <td>2.770225</td>\n",
       "      <td>186.809028</td>\n",
       "      <td>0.493719</td>\n",
       "      <td>NaN</td>\n",
       "      <td>1.571037</td>\n",
       "      <td>0.578762</td>\n",
       "      <td>4.627358</td>\n",
       "      <td>1.734385</td>\n",
       "      <td>72.230334</td>\n",
       "      <td>NaN</td>\n",
       "    </tr>\n",
       "    <tr>\n",
       "      <th>min</th>\n",
       "      <td>17.000000</td>\n",
       "      <td>NaN</td>\n",
       "      <td>NaN</td>\n",
       "      <td>NaN</td>\n",
       "      <td>NaN</td>\n",
       "      <td>NaN</td>\n",
       "      <td>NaN</td>\n",
       "      <td>NaN</td>\n",
       "      <td>NaN</td>\n",
       "      <td>NaN</td>\n",
       "      <td>0.000000</td>\n",
       "      <td>1.000000</td>\n",
       "      <td>0.000000</td>\n",
       "      <td>0.000000</td>\n",
       "      <td>NaN</td>\n",
       "      <td>-3.400000</td>\n",
       "      <td>92.201000</td>\n",
       "      <td>-50.800000</td>\n",
       "      <td>0.634000</td>\n",
       "      <td>4963.600000</td>\n",
       "      <td>NaN</td>\n",
       "    </tr>\n",
       "    <tr>\n",
       "      <th>25%</th>\n",
       "      <td>32.000000</td>\n",
       "      <td>NaN</td>\n",
       "      <td>NaN</td>\n",
       "      <td>NaN</td>\n",
       "      <td>NaN</td>\n",
       "      <td>NaN</td>\n",
       "      <td>NaN</td>\n",
       "      <td>NaN</td>\n",
       "      <td>NaN</td>\n",
       "      <td>NaN</td>\n",
       "      <td>102.000000</td>\n",
       "      <td>1.000000</td>\n",
       "      <td>999.000000</td>\n",
       "      <td>0.000000</td>\n",
       "      <td>NaN</td>\n",
       "      <td>-1.800000</td>\n",
       "      <td>93.075000</td>\n",
       "      <td>-42.700000</td>\n",
       "      <td>1.344000</td>\n",
       "      <td>5099.100000</td>\n",
       "      <td>NaN</td>\n",
       "    </tr>\n",
       "    <tr>\n",
       "      <th>50%</th>\n",
       "      <td>38.000000</td>\n",
       "      <td>NaN</td>\n",
       "      <td>NaN</td>\n",
       "      <td>NaN</td>\n",
       "      <td>NaN</td>\n",
       "      <td>NaN</td>\n",
       "      <td>NaN</td>\n",
       "      <td>NaN</td>\n",
       "      <td>NaN</td>\n",
       "      <td>NaN</td>\n",
       "      <td>180.000000</td>\n",
       "      <td>2.000000</td>\n",
       "      <td>999.000000</td>\n",
       "      <td>0.000000</td>\n",
       "      <td>NaN</td>\n",
       "      <td>1.100000</td>\n",
       "      <td>93.749000</td>\n",
       "      <td>-41.800000</td>\n",
       "      <td>4.857000</td>\n",
       "      <td>5191.000000</td>\n",
       "      <td>NaN</td>\n",
       "    </tr>\n",
       "    <tr>\n",
       "      <th>75%</th>\n",
       "      <td>47.000000</td>\n",
       "      <td>NaN</td>\n",
       "      <td>NaN</td>\n",
       "      <td>NaN</td>\n",
       "      <td>NaN</td>\n",
       "      <td>NaN</td>\n",
       "      <td>NaN</td>\n",
       "      <td>NaN</td>\n",
       "      <td>NaN</td>\n",
       "      <td>NaN</td>\n",
       "      <td>319.000000</td>\n",
       "      <td>3.000000</td>\n",
       "      <td>999.000000</td>\n",
       "      <td>0.000000</td>\n",
       "      <td>NaN</td>\n",
       "      <td>1.400000</td>\n",
       "      <td>93.994000</td>\n",
       "      <td>-36.400000</td>\n",
       "      <td>4.961000</td>\n",
       "      <td>5228.100000</td>\n",
       "      <td>NaN</td>\n",
       "    </tr>\n",
       "    <tr>\n",
       "      <th>max</th>\n",
       "      <td>98.000000</td>\n",
       "      <td>NaN</td>\n",
       "      <td>NaN</td>\n",
       "      <td>NaN</td>\n",
       "      <td>NaN</td>\n",
       "      <td>NaN</td>\n",
       "      <td>NaN</td>\n",
       "      <td>NaN</td>\n",
       "      <td>NaN</td>\n",
       "      <td>NaN</td>\n",
       "      <td>4918.000000</td>\n",
       "      <td>56.000000</td>\n",
       "      <td>999.000000</td>\n",
       "      <td>7.000000</td>\n",
       "      <td>NaN</td>\n",
       "      <td>1.400000</td>\n",
       "      <td>94.767000</td>\n",
       "      <td>-26.900000</td>\n",
       "      <td>5.045000</td>\n",
       "      <td>5228.100000</td>\n",
       "      <td>NaN</td>\n",
       "    </tr>\n",
       "  </tbody>\n",
       "</table>\n",
       "</div>"
      ],
      "text/plain": [
       "                 age     job  marital          education default housing  \\\n",
       "count   41180.000000   41180    41180              41180   41180   41180   \n",
       "unique           NaN      12        4                  8       3       3   \n",
       "top              NaN  admin.  married  university.degree      no     yes   \n",
       "freq             NaN   10422    24921              12166   32581   21571   \n",
       "mean       40.021710     NaN      NaN                NaN     NaN     NaN   \n",
       "std        10.419593     NaN      NaN                NaN     NaN     NaN   \n",
       "min        17.000000     NaN      NaN                NaN     NaN     NaN   \n",
       "25%        32.000000     NaN      NaN                NaN     NaN     NaN   \n",
       "50%        38.000000     NaN      NaN                NaN     NaN     NaN   \n",
       "75%        47.000000     NaN      NaN                NaN     NaN     NaN   \n",
       "max        98.000000     NaN      NaN                NaN     NaN     NaN   \n",
       "\n",
       "         loan   contact  month day_of_week      duration      campaign  \\\n",
       "count   41180     41180  41180       41180  41180.000000  41180.000000   \n",
       "unique      3         2     10           5           NaN           NaN   \n",
       "top        no  cellular    may         thu           NaN           NaN   \n",
       "freq    33943     26140  13765        8622           NaN           NaN   \n",
       "mean      NaN       NaN    NaN         NaN    258.280427      2.567800   \n",
       "std       NaN       NaN    NaN         NaN    259.299856      2.770225   \n",
       "min       NaN       NaN    NaN         NaN      0.000000      1.000000   \n",
       "25%       NaN       NaN    NaN         NaN    102.000000      1.000000   \n",
       "50%       NaN       NaN    NaN         NaN    180.000000      2.000000   \n",
       "75%       NaN       NaN    NaN         NaN    319.000000      3.000000   \n",
       "max       NaN       NaN    NaN         NaN   4918.000000     56.000000   \n",
       "\n",
       "               pdays      previous     poutcome  emp.var.rate  cons.price.idx  \\\n",
       "count   41180.000000  41180.000000        41180  41180.000000    41180.000000   \n",
       "unique           NaN           NaN            3           NaN             NaN   \n",
       "top              NaN           NaN  nonexistent           NaN             NaN   \n",
       "freq             NaN           NaN        35559           NaN             NaN   \n",
       "mean      962.516707      0.172705          NaN      0.081901       93.575508   \n",
       "std       186.809028      0.493719          NaN      1.571037        0.578762   \n",
       "min         0.000000      0.000000          NaN     -3.400000       92.201000   \n",
       "25%       999.000000      0.000000          NaN     -1.800000       93.075000   \n",
       "50%       999.000000      0.000000          NaN      1.100000       93.749000   \n",
       "75%       999.000000      0.000000          NaN      1.400000       93.994000   \n",
       "max       999.000000      7.000000          NaN      1.400000       94.767000   \n",
       "\n",
       "        cons.conf.idx     euribor3m   nr.employed      y  \n",
       "count    41180.000000  41180.000000  41180.000000  41180  \n",
       "unique            NaN           NaN           NaN      2  \n",
       "top               NaN           NaN           NaN     no  \n",
       "freq              NaN           NaN           NaN  36542  \n",
       "mean       -40.501999      3.621422   5167.053344    NaN  \n",
       "std          4.627358      1.734385     72.230334    NaN  \n",
       "min        -50.800000      0.634000   4963.600000    NaN  \n",
       "25%        -42.700000      1.344000   5099.100000    NaN  \n",
       "50%        -41.800000      4.857000   5191.000000    NaN  \n",
       "75%        -36.400000      4.961000   5228.100000    NaN  \n",
       "max        -26.900000      5.045000   5228.100000    NaN  "
      ]
     },
     "execution_count": 51,
     "metadata": {},
     "output_type": "execute_result"
    }
   ],
   "source": [
    "data.describe(include='all')"
   ]
  },
  {
   "cell_type": "markdown",
   "metadata": {},
   "source": [
    "### Feature Selection"
   ]
  },
  {
   "cell_type": "markdown",
   "metadata": {},
   "source": [
    "* PDays: Due to the high amount of values of 999 days of contact after the last campaign, it is clear that it is an error. According to the data dictionary, the -1 value means the client was not previously contacted. This value is not present in any row of pdays. The solution to the issue could be rather delete the column or replace its value per the default -1 assuming no previous contact with clients. Hence, this column will not be taked into account for the modelling phase."
   ]
  },
  {
   "cell_type": "code",
   "execution_count": 54,
   "metadata": {},
   "outputs": [],
   "source": [
    "data.drop('pdays', axis=1, inplace=True)"
   ]
  },
  {
   "cell_type": "code",
   "execution_count": 57,
   "metadata": {},
   "outputs": [
    {
     "data": {
      "image/png": "[encoded data removed]",
      "text/plain": [
       "<Figure size 640x480 with 2 Axes>"
      ]
     },
     "metadata": {},
     "output_type": "display_data"
    }
   ],
   "source": [
    "# Correlation analysis for numerical columns\n",
    "numerical_columns = data.select_dtypes(include = ['int64', 'float64']).columns\n",
    "sns.heatmap(data[numerical_columns].corr(), cmap=sns.diverging_palette(230, 10, n=1001), alpha=0.7)\n",
    "plt.title('Correlation Matrix of Numerical Features')\n",
    "plt.xticks(rotation=40)\n",
    "plt.tight_layout()\n",
    "# plt.savefig('correlation_matrix.png', dpi=300)"
   ]
  },
  {
   "cell_type": "markdown",
   "metadata": {},
   "source": [
    "There are signs of multicolinearity on the index columns (euribor, consumer price, employment variation and number employed)"
   ]
  },
  {
   "cell_type": "code",
   "execution_count": 78,
   "metadata": {},
   "outputs": [
    {
     "name": "stdout",
     "output_type": "stream",
     "text": [
      "                emp.var.rate  cons.price.idx  euribor3m  nr.employed\n",
      "emp.var.rate        1.000000        0.775655   0.972266     0.907141\n",
      "cons.price.idx      0.775655        1.000000   0.688729     0.522899\n",
      "euribor3m           0.972266        0.688729   1.000000     0.945218\n",
      "nr.employed         0.907141        0.522899   0.945218     1.000000\n"
     ]
    }
   ],
   "source": [
    "selected_columns = ['emp.var.rate', 'cons.price.idx', 'euribor3m', 'nr.employed']\n",
    "\n",
    "correlation_matrix = data[selected_columns].corr()\n",
    "\n",
    "print(correlation_matrix)"
   ]
  },
  {
   "cell_type": "code",
   "execution_count": 79,
   "metadata": {},
   "outputs": [
    {
     "name": "stdout",
     "output_type": "stream",
     "text": [
      "          Feature        VIF\n",
      "0    emp.var.rate  32.553062\n",
      "1  cons.price.idx   4.675213\n",
      "2       euribor3m  31.138032\n",
      "3     nr.employed  14.392305\n"
     ]
    },
    {
     "name": "stderr",
     "output_type": "stream",
     "text": [
      "C:\\Users\\juand\\AppData\\Local\\Temp\\ipykernel_24540\\1919145305.py:4: SettingWithCopyWarning: \n",
      "A value is trying to be set on a copy of a slice from a DataFrame.\n",
      "Try using .loc[row_indexer,col_indexer] = value instead\n",
      "\n",
      "See the caveats in the documentation: https://pandas.pydata.org/pandas-docs/stable/user_guide/indexing.html#returning-a-view-versus-a-copy\n",
      "  X['constant'] = 1\n"
     ]
    }
   ],
   "source": [
    "from statsmodels.stats.outliers_influence import variance_inflation_factor\n",
    "\n",
    "X = data[selected_columns]\n",
    "X['constant'] = 1\n",
    "\n",
    "# Calculate VIF for each feature\n",
    "vif_data = pd.DataFrame()\n",
    "vif_data['Feature'] = selected_columns\n",
    "vif_data['VIF'] = [variance_inflation_factor(X.values, i) for i in range(X.shape[1] - 1)]  # Exclude the constant\n",
    "\n",
    "print(vif_data)"
   ]
  },
  {
   "cell_type": "markdown",
   "metadata": {},
   "source": [
    "Looking at the correlation between those variables, and considering the VIF score ranking obtained, the columns employment var rate, euribor3m and nr.employed exhibit clear signs of multicolinearity (correlation higher than 0.9 and VIF score higher than 10). For that reason this columns should be removed from the analysis to avoid noise in the models."
   ]
  },
  {
   "cell_type": "code",
   "execution_count": 76,
   "metadata": {},
   "outputs": [
    {
     "name": "stdout",
     "output_type": "stream",
     "text": [
      "Index(['age', 'duration', 'campaign', 'previous', 'emp.var.rate',\n",
      "       'cons.price.idx', 'cons.conf.idx', 'euribor3m', 'nr.employed'],\n",
      "      dtype='object')\n",
      "['age', 'duration', 'campaign', 'previous', 'emp.var.rate', 'cons.price.idx', 'cons.conf.idx', 'euribor3m', 'nr.employed']\n"
     ]
    }
   ],
   "source": [
    "print(numerical_columns)\n",
    "def mann_whitney_significant_features(df, cols, target):\n",
    "    significant_features = []\n",
    "    for col in cols:\n",
    "        u_stat, p_value = stats.ttest_ind(df[df[target]=='yes'][col], df[df[target]=='no'][col])\n",
    "        if p_value < 0.05:\n",
    "            significant_features.append(col)\n",
    "    \n",
    "    return significant_features\n",
    "\n",
    "print(mann_whitney_significant_features(data, numerical_columns, 'y'))"
   ]
  },
  {
   "cell_type": "code",
   "execution_count": 74,
   "metadata": {},
   "outputs": [
    {
     "name": "stdout",
     "output_type": "stream",
     "text": [
      "['job', 'marital', 'education', 'default', 'contact', 'month', 'day_of_week', 'poutcome']\n"
     ]
    }
   ],
   "source": [
    "categorical_columns = data.select_dtypes(include = 'object').columns\n",
    "categorical_columns = categorical_columns[categorical_columns != 'y']\n",
    "def chi2_significant_features(df, cols, target):\n",
    "    significant_features = []\n",
    "    for col in cols:\n",
    "        chi2, p, dof, expected  = stats.chi2_contingency(pd.crosstab(df[target], df[col]))\n",
    "        if p < 0.05:\n",
    "            significant_features.append(col)\n",
    "    \n",
    "    return significant_features\n",
    "\n",
    "print(chi2_significant_features(data, categorical_columns, 'y'))"
   ]
  },
  {
   "cell_type": "markdown",
   "metadata": {},
   "source": [
    "Housing and loan were considered not significant features in relation with the target variable. Considering the day of week, the distribution explored in the EDA shows minimal differences between positive and negative outcomes on the marketing campaign so this column will not be considered into the final feature set."
   ]
  },
  {
   "cell_type": "code",
   "execution_count": 80,
   "metadata": {},
   "outputs": [],
   "source": [
    "data_features_final = ['age', 'duration', 'campaign', 'previous', 'cons.price.idx', 'cons.conf.idx',\n",
    "                       'job', 'marital', 'education', 'default', 'contact', 'month', 'poutcome', 'y']"
   ]
  },
  {
   "cell_type": "markdown",
   "metadata": {},
   "source": [
    "### Data Cleaning"
   ]
  },
  {
   "cell_type": "markdown",
   "metadata": {},
   "source": [
    "Since the EDA was previously performed on the assignment 1, this notebook will only perform the changes and address the issues identified on the selected columns"
   ]
  },
  {
   "cell_type": "code",
   "execution_count": 81,
   "metadata": {},
   "outputs": [],
   "source": [
    "data_cleaned = data[data_features_final].copy()"
   ]
  },
  {
   "cell_type": "code",
   "execution_count": 82,
   "metadata": {},
   "outputs": [
    {
     "name": "stdout",
     "output_type": "stream",
     "text": [
      "age  duration  campaign  previous  cons.price.idx  cons.conf.idx  job          marital   education            default  contact    month  poutcome     y  \n",
      "42   71        1         0         93.444          -36.1          admin.       married   university.degree    no       cellular   aug    nonexistent  no     2\n",
      "24   114       1         0         93.075          -47.1          services     single    high.school          no       cellular   apr    nonexistent  no     1\n",
      "37   101       2         0         93.444          -36.1          technician   single    professional.course  no       cellular   aug    nonexistent  no     1\n",
      "     356       1         0         93.444          -36.1          admin.       married   university.degree    no       cellular   aug    nonexistent  no     1\n",
      "38   117       2         0         94.465          -41.8          admin.       married   high.school          no       telephone  jun    nonexistent  no     1\n",
      "39   23        1         0         94.465          -41.8          management   married   university.degree    no       telephone  jun    nonexistent  no     1\n",
      "     50        1         0         93.200          -42.0          admin.       married   high.school          no       cellular   nov    nonexistent  no     1\n",
      "     123       2         0         93.200          -42.0          admin.       married   university.degree    no       cellular   nov    nonexistent  no     1\n",
      "     124       1         0         93.994          -36.4          blue-collar  married   basic.6y             no       telephone  may    nonexistent  no     1\n",
      "     178       1         0         94.465          -41.8          admin.       married   university.degree    no       telephone  jun    nonexistent  no     1\n",
      "40   264       1         0         93.994          -36.4          technician   married   professional.course  unknown  telephone  may    nonexistent  no     1\n",
      "41   127       1         0         93.444          -36.1          technician   married   professional.course  no       cellular   aug    nonexistent  no     1\n",
      "     137       1         0         93.994          -36.4          admin.       single    university.degree    unknown  telephone  may    nonexistent  no     1\n",
      "42   68        2         0         93.444          -36.1          admin.       married   university.degree    no       cellular   aug    nonexistent  no     1\n",
      "     189       2         0         93.994          -36.4          blue-collar  divorced  basic.9y             no       telephone  may    nonexistent  no     1\n",
      "36   151       1         0         92.893          -46.2          blue-collar  married   basic.9y             no       cellular   may    nonexistent  no     1\n",
      "43   296       1         0         93.918          -42.7          housemaid    married   basic.4y             no       cellular   jul    nonexistent  no     1\n",
      "44   85        2         0         93.444          -36.1          technician   married   professional.course  no       cellular   aug    nonexistent  no     1\n",
      "     203       1         0         93.994          -36.4          technician   married   professional.course  unknown  telephone  may    nonexistent  no     1\n",
      "45   107       2         0         94.465          -41.8          blue-collar  married   basic.4y             unknown  telephone  jun    nonexistent  no     1\n",
      "     121       1         0         93.994          -36.4          blue-collar  married   basic.9y             unknown  telephone  may    nonexistent  no     1\n",
      "     164       1         0         93.994          -36.4          blue-collar  married   basic.4y             no       telephone  may    nonexistent  no     1\n",
      "     252       1         0         92.469          -33.6          admin.       married   university.degree    no       cellular   jul    nonexistent  yes    1\n",
      "46   125       1         0         93.994          -36.4          blue-collar  married   basic.4y             unknown  telephone  may    nonexistent  no     1\n",
      "47   43        3         0         93.918          -42.7          technician   divorced  high.school          no       cellular   jul    nonexistent  no     1\n",
      "49   27        1         0         93.994          -36.4          blue-collar  married   basic.9y             unknown  telephone  may    nonexistent  no     1\n",
      "55   33        1         0         93.444          -36.1          services     married   high.school          unknown  cellular   aug    nonexistent  no     1\n",
      "56   70        1         0         93.994          -36.4          management   married   unknown              no       telephone  may    nonexistent  no     1\n",
      "36   334       1         0         92.893          -46.2          blue-collar  married   basic.9y             no       cellular   may    nonexistent  no     1\n",
      "     140       1         0         93.075          -47.1          admin.       single    high.school          no       cellular   apr    nonexistent  no     1\n",
      "26   212       1         0         93.918          -42.7          admin.       single    university.degree    no       cellular   jul    nonexistent  no     1\n",
      "31   184       1         0         93.444          -36.1          technician   married   professional.course  no       cellular   aug    nonexistent  no     1\n",
      "26   250       2         0         93.918          -42.7          blue-collar  married   basic.9y             unknown  cellular   jul    nonexistent  no     1\n",
      "27   331       2         0         93.918          -42.7          technician   single    professional.course  no       cellular   jul    nonexistent  no     1\n",
      "29   103       1         0         93.200          -42.0          admin.       single    university.degree    no       cellular   nov    nonexistent  no     1\n",
      "     111       1         0         93.444          -36.1          technician   single    professional.course  no       cellular   aug    nonexistent  no     1\n",
      "     117       1         0         93.200          -42.0          admin.       married   university.degree    no       cellular   nov    nonexistent  no     1\n",
      "     155       1         0         93.200          -42.0          admin.       married   high.school          no       cellular   nov    nonexistent  no     1\n",
      "30   55        4         0         93.444          -36.1          technician   single    professional.course  no       cellular   aug    nonexistent  no     1\n",
      "     85        2         0         93.994          -36.4          blue-collar  married   unknown              no       telephone  may    nonexistent  no     1\n",
      "31   87        1         0         93.444          -36.1          technician   married   professional.course  no       cellular   aug    nonexistent  no     1\n",
      "     97        2         0         93.994          -36.4          blue-collar  married   basic.9y             no       telephone  may    nonexistent  no     1\n",
      "     113       2         0         93.444          -36.1          technician   single    high.school          no       cellular   aug    nonexistent  no     1\n",
      "     126       1         0         93.444          -36.1          admin.       single    university.degree    no       cellular   aug    nonexistent  no     1\n",
      "     203       2         0         93.994          -36.4          blue-collar  married   basic.9y             no       telephone  may    nonexistent  no     1\n",
      "36   133       1         0         92.893          -46.2          blue-collar  married   basic.9y             no       cellular   may    nonexistent  no     1\n",
      "31   206       1         0         92.893          -46.2          services     single    high.school          no       cellular   may    nonexistent  no     1\n",
      "32   70        1         0         93.994          -36.4          admin.       married   high.school          no       telephone  may    nonexistent  no     1\n",
      "     128       1         0         93.918          -42.7          technician   single    professional.course  no       cellular   jul    nonexistent  no     1\n",
      "     302       3         0         93.918          -42.7          services     married   high.school          no       cellular   jul    nonexistent  no     1\n",
      "33   90        2         0         93.918          -42.7          services     married   high.school          no       cellular   jul    nonexistent  no     1\n",
      "     130       1         0         93.918          -42.7          services     married   high.school          no       cellular   jul    nonexistent  no     1\n",
      "34   79        2         0         93.200          -42.0          management   single    university.degree    no       cellular   nov    nonexistent  no     1\n",
      "     159       1         1         92.893          -46.2          admin.       married   university.degree    no       cellular   may    failure      no     1\n",
      "35   348       4         0         92.893          -46.2          admin.       married   university.degree    no       cellular   may    nonexistent  no     1\n",
      "36   88        1         0         93.918          -42.7          retired      married   unknown              no       telephone  jul    nonexistent  no     1\n",
      "     94        1         0         93.444          -36.1          technician   married   professional.course  no       cellular   aug    nonexistent  no     1\n",
      "     95        1         0         93.994          -36.4          blue-collar  married   basic.9y             no       telephone  may    nonexistent  no     1\n",
      "71   120       1         0         92.431          -26.9          retired      single    university.degree    no       telephone  oct    nonexistent  no     1\n",
      "Name: count, dtype: int64\n"
     ]
    }
   ],
   "source": [
    "#Identifying duplicated values\n",
    "mask = data_cleaned.duplicated()\n",
    "print(data_cleaned[mask].value_counts())"
   ]
  },
  {
   "cell_type": "code",
   "execution_count": 83,
   "metadata": {},
   "outputs": [
    {
     "data": {
      "text/plain": [
       "(41120, 14)"
      ]
     },
     "execution_count": 83,
     "metadata": {},
     "output_type": "execute_result"
    }
   ],
   "source": [
    "# Verifying and deleting duplicated values\n",
    "data_cleaned.drop_duplicates(inplace=True)\n",
    "data_cleaned.shape"
   ]
  },
  {
   "cell_type": "code",
   "execution_count": 84,
   "metadata": {},
   "outputs": [
    {
     "data": {
      "text/plain": [
       "0"
      ]
     },
     "execution_count": 84,
     "metadata": {},
     "output_type": "execute_result"
    }
   ],
   "source": [
    "# Verifying null values\n",
    "data_cleaned.isnull().sum().sum()"
   ]
  },
  {
   "cell_type": "code",
   "execution_count": 85,
   "metadata": {},
   "outputs": [
    {
     "name": "stdout",
     "output_type": "stream",
     "text": [
      "Outliers in the numerical columns : \n",
      "age                467\n",
      "duration          2955\n",
      "campaign          2406\n",
      "previous          5620\n",
      "cons.price.idx       0\n",
      "cons.conf.idx      446\n",
      "dtype: int64\n"
     ]
    }
   ],
   "source": [
    "#Checking for outliers in all the numerical columns\n",
    "numerical_columns = data_cleaned.select_dtypes(include = ['int64', 'float64']).columns\n",
    "\n",
    "#Checking the outliers in a non-graphical way\n",
    "Q1 = data_cleaned[numerical_columns].quantile(0.25)\n",
    "Q3 = data_cleaned[numerical_columns].quantile(0.75)\n",
    "IQR = Q3 - Q1\n",
    "outliers = ((data_cleaned[numerical_columns] < (Q1 - 1.5 * IQR)) | (data_cleaned[numerical_columns] > (Q3 + 1.5 * IQR))).sum()\n",
    "\n",
    "#Displaying the outliers\n",
    "print(f\"Outliers in the numerical columns : \\n{outliers}\")\n"
   ]
  },
  {
   "cell_type": "code",
   "execution_count": 86,
   "metadata": {},
   "outputs": [
    {
     "name": "stdout",
     "output_type": "stream",
     "text": [
      "Percentage of outliers in the numerical columns : \n",
      "age                1.135700\n",
      "duration           7.186284\n",
      "campaign           5.851167\n",
      "previous          13.667315\n",
      "cons.price.idx     0.000000\n",
      "cons.conf.idx      1.084630\n",
      "dtype: float64\n"
     ]
    }
   ],
   "source": [
    "percentage_outliers = (outliers / data_cleaned.shape[0]) * 100\n",
    "print(f\"Percentage of outliers in the numerical columns : \\n{percentage_outliers}\")"
   ]
  },
  {
   "cell_type": "markdown",
   "metadata": {},
   "source": [
    "Considering that duration and campaign possess more than 5% of outliers, this data will be handled. For previous the high value of outliers correspond to the amount of 0 meaning no previous contact for most customers, however, this information could be valuable to test with the model performance so these values will be maintained."
   ]
  },
  {
   "cell_type": "code",
   "execution_count": 87,
   "metadata": {},
   "outputs": [
    {
     "data": {
      "text/plain": [
       "Text(0, 0.5, 'Frequency')"
      ]
     },
     "execution_count": 87,
     "metadata": {},
     "output_type": "execute_result"
    },
    {
     "data": {
      "image/png": "[encoded data removed]",
      "text/plain": [
       "<Figure size 1000x400 with 2 Axes>"
      ]
     },
     "metadata": {},
     "output_type": "display_data"
    }
   ],
   "source": [
    "#Log Transformation for duration column\n",
    "data_cleaned['log_duration'] = np.log1p(data_cleaned['duration'])\n",
    "\n",
    "plt.figure(figsize=(10,4))\n",
    "\n",
    "plt.subplot(1, 2, 1)\n",
    "sns.histplot(data_cleaned['duration'], kde = True)\n",
    "plt.title(f\"Distribution of duration\")\n",
    "plt.xlabel('duration')\n",
    "plt.ylabel('Frequency')\n",
    "\n",
    "plt.subplot(1, 2, 2)\n",
    "sns.histplot(data_cleaned['log_duration'], kde = True)\n",
    "plt.title(f\"Distribution of duration transformed\")\n",
    "plt.xlabel('duration')\n",
    "plt.ylabel('Frequency')"
   ]
  },
  {
   "cell_type": "markdown",
   "metadata": {},
   "source": [
    "Log transformation was applied taking into account that the outliers in duration often corresponds to extreme values but not necessarily an issue with the data because the call duration may vary often depending on the customer and the sales team persistence. Log transformation helps to reduce the effect of the outliers by compressing the range, obtaining a nearly-normal distribution."
   ]
  },
  {
   "cell_type": "code",
   "execution_count": 88,
   "metadata": {},
   "outputs": [
    {
     "data": {
      "text/plain": [
       "(38714, 15)"
      ]
     },
     "execution_count": 88,
     "metadata": {},
     "output_type": "execute_result"
    }
   ],
   "source": [
    "#Outlier Removal applying IQR for campaign column\n",
    "Q1 = data_cleaned['campaign'].quantile(0.25)\n",
    "Q3 = data_cleaned['campaign'].quantile(0.75)\n",
    "IQR = Q3 - Q1\n",
    "data_cleaned = data_cleaned[(data_cleaned['campaign'] >= (Q1 - 1.5 * IQR)) & (data_cleaned['campaign'] <= (Q3 + 1.5 * IQR))]\n",
    "\n",
    "data_cleaned.shape"
   ]
  },
  {
   "cell_type": "markdown",
   "metadata": {},
   "source": [
    "For Campaign, the outliers correspond to most erroneous contacts, considering that users with more than 50 contacts in the same campaign does not seem to be a possible case for the telecommunication marketing team because of the time wasted only in few customers instead of trying to get more sales from new potential customers. To handle that error values, IQR removal was then applied"
   ]
  },
  {
   "cell_type": "code",
   "execution_count": null,
   "metadata": {},
   "outputs": [],
   "source": []
  }
 ],
 "metadata": {
  "kernelspec": {
   "display_name": "Python 3",
   "language": "python",
   "name": "python3"
  },
  "language_info": {
   "codemirror_mode": {
    "name": "ipython",
    "version": 3
   },
   "file_extension": ".py",
   "mimetype": "text/x-python",
   "name": "python",
   "nbconvert_exporter": "python",
   "pygments_lexer": "ipython3",
   "version": "3.12.4"
  }
 },
 "nbformat": 4,
 "nbformat_minor": 2
}
